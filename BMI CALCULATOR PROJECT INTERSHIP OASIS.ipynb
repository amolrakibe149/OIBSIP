{
 "cells": [
  {
   "cell_type": "code",
   "execution_count": 3,
   "id": "1fbc5039",
   "metadata": {},
   "outputs": [
    {
     "name": "stdout",
     "output_type": "stream",
     "text": [
      "Enter your weight in kg60\n",
      "Enter your Heingh in Meter168\n",
      "UNDERWEIGHT\n",
      "PRINT VALID INPUTS\n"
     ]
    }
   ],
   "source": [
    "T='BMI Calculator'\n",
    "s = int(input(\"Enter your weight in kg\"))\n",
    "a = int(input(\"Enter your Heingh in Meter\"))\n",
    "#BMI = (Weight in Kilograms / (Height in Meters x Height in Meters))\n",
    "BMI = s / (a * a)\n",
    "if BMI >=18.5 and BMI <= 24.99:\n",
    "    PRINT(\"NORMAL\")\n",
    "if BMI < 18.5:\n",
    "    print(\"UNDERWEIGHT\")\n",
    "if BMI >=25:\n",
    "    print(\"OVERWEIGHT\")\n",
    "\n",
    "    \n"
   ]
  },
  {
   "cell_type": "code",
   "execution_count": null,
   "id": "bce7b132",
   "metadata": {},
   "outputs": [],
   "source": []
  },
  {
   "cell_type": "markdown",
   "id": "e528ba40",
   "metadata": {},
   "source": [
    " "
   ]
  }
 ],
 "metadata": {
  "kernelspec": {
   "display_name": "Python 3 (ipykernel)",
   "language": "python",
   "name": "python3"
  },
  "language_info": {
   "codemirror_mode": {
    "name": "ipython",
    "version": 3
   },
   "file_extension": ".py",
   "mimetype": "text/x-python",
   "name": "python",
   "nbconvert_exporter": "python",
   "pygments_lexer": "ipython3",
   "version": "3.10.9"
  }
 },
 "nbformat": 4,
 "nbformat_minor": 5
}
