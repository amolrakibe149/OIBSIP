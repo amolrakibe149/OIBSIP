{
 "cells": [
  {
   "cell_type": "code",
   "execution_count": null,
   "id": "3e7a6a6b",
   "metadata": {},
   "outputs": [],
   "source": [
    "import random\n",
    "import string\n",
    "\n",
    "def generate_password(length, use_letters=True, use_numbers=True, use_symbols=True):\n",
    "    characters = \"\"\n",
    "    \n",
    "    if use_letters:\n",
    "        characters += string.ascii_letters\n",
    "    if use_numbers:\n",
    "        characters += string.digits\n",
    "    if use_symbols:\n",
    "        characters += string.punctuation\n",
    "    \n",
    "    if not characters:\n",
    "        print(\"Error: Please select at least one character set.\")\n",
    "        return None\n",
    "    \n",
    "    password = ''.join(random.choice(characters) for _ in range(length))\n",
    "    return password\n",
    "\n",
    "def main():\n",
    "    print(\"Random Password Generator\")\n",
    "    print(\"-------------------------\")\n",
    "\n",
    "    try:\n",
    "        length = int(input(\"Enter the desired password length: \"))\n",
    "        use_letters = input(\"Include letters? (y/n): \").lower() == 'y'\n",
    "        use_numbers = input(\"Include numbers? (y/n): \").lower() == 'y'\n",
    "        use_symbols = input(\"Include symbols? (y/n): \").lower() == 'y'\n",
    "\n",
    "        password = generate_password(length, use_letters, use_numbers, use_symbols)\n",
    "\n",
    "        if password:\n",
    "            print(\"Generated Password:\", password)\n",
    "    except ValueError:\n",
    "        print(\"Error: Please enter a valid number for password length.\")\n",
    "\n",
    "if __name__ == \"__main__\":\n",
    "    main()\n"
   ]
  }
 ],
 "metadata": {
  "kernelspec": {
   "display_name": "Python 3 (ipykernel)",
   "language": "python",
   "name": "python3"
  },
  "language_info": {
   "codemirror_mode": {
    "name": "ipython",
    "version": 3
   },
   "file_extension": ".py",
   "mimetype": "text/x-python",
   "name": "python",
   "nbconvert_exporter": "python",
   "pygments_lexer": "ipython3",
   "version": "3.10.9"
  }
 },
 "nbformat": 4,
 "nbformat_minor": 5
}
